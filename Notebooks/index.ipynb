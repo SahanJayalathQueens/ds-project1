{
 "cells": [
  {
   "cell_type": "markdown",
   "metadata": {},
   "source": [
    "# Final notebook"
   ]
  },
  {
   "cell_type": "markdown",
   "metadata": {},
   "source": [
    "### Presentation slides outline\n",
    "\n",
    "1. Beginning \n",
    "    - Overview\n",
    "    - Business Understanding\n",
    "2. Middle\n",
    "    - Data Understanding\n",
    "    - Data Analysis\n",
    "3. End\n",
    "    - Recommendations\n",
    "    - Next steps\n",
    "    - Thank you (prompt for questions as well as our contact info here)"
   ]
  },
  {
   "cell_type": "markdown",
   "metadata": {},
   "source": []
  }
 ],
 "metadata": {
  "language_info": {
   "name": "python"
  }
 },
 "nbformat": 4,
 "nbformat_minor": 2
}
