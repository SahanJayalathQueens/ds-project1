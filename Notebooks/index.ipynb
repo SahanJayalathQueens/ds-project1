{
 "cells": [
  {
   "cell_type": "markdown",
   "metadata": {},
   "source": [
    "# Final notebook"
   ]
  },
  {
   "cell_type": "markdown",
   "metadata": {},
   "source": [
    "### Presentation slides outline\n",
    "\n",
    "1. Beginning \n",
    "    - Overview\n",
    "    - Business Understanding\n",
    "2. Middle\n",
    "    - Data Understanding\n",
    "    - Data Analysis\n",
    "3. End\n",
    "    - Recommendations\n",
    "    - Next steps\n",
    "    - Thank you (prompt for questions as well as our contact info here)"
   ]
  },
  {
   "cell_type": "markdown",
   "metadata": {},
   "source": [
    "- look at other factors affecting safety (engine type, # of engines etc.)\n",
    "- aircraft safety during VMC and IMC\n",
    "- "
   ]
  },
  {
   "cell_type": "code",
   "execution_count": 1,
   "metadata": {},
   "outputs": [],
   "source": [
    "import pandas as pd \n",
    "import numpy as np \n",
    "import matplotlib.pyplot as plt \n",
    "import seaborn as sns"
   ]
  },
  {
   "cell_type": "code",
   "execution_count": 45,
   "metadata": {},
   "outputs": [],
   "source": [
    "from scipy import stats"
   ]
  },
  {
   "cell_type": "code",
   "execution_count": 64,
   "metadata": {},
   "outputs": [],
   "source": [
    "df = pd.read_csv('make_model_risk.csv')"
   ]
  },
  {
   "cell_type": "code",
   "execution_count": 3,
   "metadata": {},
   "outputs": [
    {
     "name": "stdout",
     "output_type": "stream",
     "text": [
      "<class 'pandas.core.frame.DataFrame'>\n",
      "RangeIndex: 2606 entries, 0 to 2605\n",
      "Data columns (total 5 columns):\n",
      " #   Column                 Non-Null Count  Dtype  \n",
      "---  ------                 --------------  -----  \n",
      " 0   Make                   2606 non-null   object \n",
      " 1   Model                  2606 non-null   object \n",
      " 2   Mean_Risk_Index        2606 non-null   float64\n",
      " 3   Model_Total_Accidents  2606 non-null   float64\n",
      " 4   Plane_Size             2606 non-null   object \n",
      "dtypes: float64(2), object(3)\n",
      "memory usage: 101.9+ KB\n"
     ]
    }
   ],
   "source": [
    "df.info()"
   ]
  },
  {
   "cell_type": "code",
   "execution_count": 65,
   "metadata": {},
   "outputs": [],
   "source": [
    "df_safest = df.loc[df['Model_Total_Accidents'] > 100]"
   ]
  },
  {
   "cell_type": "code",
   "execution_count": 66,
   "metadata": {},
   "outputs": [],
   "source": [
    "# Sort df_safest by Mean_Risk_Index in ascending order\n",
    "df_safest = df_safest.sort_values('Mean_Risk_Index', ascending=True)"
   ]
  },
  {
   "cell_type": "code",
   "execution_count": 67,
   "metadata": {},
   "outputs": [
    {
     "data": {
      "text/plain": [
       "Plane_Size\n",
       "Small    79\n",
       "Name: count, dtype: int64"
      ]
     },
     "execution_count": 67,
     "metadata": {},
     "output_type": "execute_result"
    }
   ],
   "source": [
    "df_safest['Plane_Size'].value_counts()"
   ]
  },
  {
   "cell_type": "code",
   "execution_count": 70,
   "metadata": {},
   "outputs": [],
   "source": [
    "df_safest['Make_and_Model'] = df_safest['Make'] + ' ' + df_safest['Model']\n",
    "df['Make_and_Model'] = df['Make'] + ' ' + df['Model']"
   ]
  },
  {
   "cell_type": "code",
   "execution_count": 71,
   "metadata": {},
   "outputs": [
    {
     "data": {
      "text/html": [
       "<div>\n",
       "<style scoped>\n",
       "    .dataframe tbody tr th:only-of-type {\n",
       "        vertical-align: middle;\n",
       "    }\n",
       "\n",
       "    .dataframe tbody tr th {\n",
       "        vertical-align: top;\n",
       "    }\n",
       "\n",
       "    .dataframe thead th {\n",
       "        text-align: right;\n",
       "    }\n",
       "</style>\n",
       "<table border=\"1\" class=\"dataframe\">\n",
       "  <thead>\n",
       "    <tr style=\"text-align: right;\">\n",
       "      <th></th>\n",
       "      <th>Make</th>\n",
       "      <th>Model</th>\n",
       "      <th>Mean_Risk_Index</th>\n",
       "      <th>Model_Total_Accidents</th>\n",
       "      <th>Plane_Size</th>\n",
       "      <th>Make_and_Model</th>\n",
       "    </tr>\n",
       "  </thead>\n",
       "  <tbody>\n",
       "    <tr>\n",
       "      <th>1032</th>\n",
       "      <td>cessna</td>\n",
       "      <td>185</td>\n",
       "      <td>0.053330</td>\n",
       "      <td>167.0</td>\n",
       "      <td>Small</td>\n",
       "      <td>cessna 185</td>\n",
       "    </tr>\n",
       "    <tr>\n",
       "      <th>985</th>\n",
       "      <td>cessna</td>\n",
       "      <td>180</td>\n",
       "      <td>0.053436</td>\n",
       "      <td>438.0</td>\n",
       "      <td>Small</td>\n",
       "      <td>cessna 180</td>\n",
       "    </tr>\n",
       "    <tr>\n",
       "      <th>2132</th>\n",
       "      <td>piper</td>\n",
       "      <td>PA 22</td>\n",
       "      <td>0.053941</td>\n",
       "      <td>129.0</td>\n",
       "      <td>Small</td>\n",
       "      <td>piper PA 22</td>\n",
       "    </tr>\n",
       "    <tr>\n",
       "      <th>934</th>\n",
       "      <td>cessna</td>\n",
       "      <td>170B</td>\n",
       "      <td>0.066126</td>\n",
       "      <td>265.0</td>\n",
       "      <td>Small</td>\n",
       "      <td>cessna 170B</td>\n",
       "    </tr>\n",
       "    <tr>\n",
       "      <th>967</th>\n",
       "      <td>cessna</td>\n",
       "      <td>172R</td>\n",
       "      <td>0.068582</td>\n",
       "      <td>161.0</td>\n",
       "      <td>Small</td>\n",
       "      <td>cessna 172R</td>\n",
       "    </tr>\n",
       "    <tr>\n",
       "      <th>931</th>\n",
       "      <td>cessna</td>\n",
       "      <td>170</td>\n",
       "      <td>0.068819</td>\n",
       "      <td>120.0</td>\n",
       "      <td>Small</td>\n",
       "      <td>cessna 170</td>\n",
       "    </tr>\n",
       "    <tr>\n",
       "      <th>1614</th>\n",
       "      <td>grumman</td>\n",
       "      <td>G 164A</td>\n",
       "      <td>0.072200</td>\n",
       "      <td>247.0</td>\n",
       "      <td>Small</td>\n",
       "      <td>grumman G 164A</td>\n",
       "    </tr>\n",
       "    <tr>\n",
       "      <th>2106</th>\n",
       "      <td>piper</td>\n",
       "      <td>PA 18</td>\n",
       "      <td>0.075128</td>\n",
       "      <td>390.0</td>\n",
       "      <td>Small</td>\n",
       "      <td>piper PA 18</td>\n",
       "    </tr>\n",
       "    <tr>\n",
       "      <th>899</th>\n",
       "      <td>cessna</td>\n",
       "      <td>120</td>\n",
       "      <td>0.079825</td>\n",
       "      <td>114.0</td>\n",
       "      <td>Small</td>\n",
       "      <td>cessna 120</td>\n",
       "    </tr>\n",
       "    <tr>\n",
       "      <th>900</th>\n",
       "      <td>cessna</td>\n",
       "      <td>140</td>\n",
       "      <td>0.083156</td>\n",
       "      <td>282.0</td>\n",
       "      <td>Small</td>\n",
       "      <td>cessna 140</td>\n",
       "    </tr>\n",
       "  </tbody>\n",
       "</table>\n",
       "</div>"
      ],
      "text/plain": [
       "         Make   Model  Mean_Risk_Index  Model_Total_Accidents Plane_Size  \\\n",
       "1032   cessna     185         0.053330                  167.0      Small   \n",
       "985    cessna     180         0.053436                  438.0      Small   \n",
       "2132    piper   PA 22         0.053941                  129.0      Small   \n",
       "934    cessna    170B         0.066126                  265.0      Small   \n",
       "967    cessna    172R         0.068582                  161.0      Small   \n",
       "931    cessna     170         0.068819                  120.0      Small   \n",
       "1614  grumman  G 164A         0.072200                  247.0      Small   \n",
       "2106    piper   PA 18         0.075128                  390.0      Small   \n",
       "899    cessna     120         0.079825                  114.0      Small   \n",
       "900    cessna     140         0.083156                  282.0      Small   \n",
       "\n",
       "      Make_and_Model  \n",
       "1032      cessna 185  \n",
       "985       cessna 180  \n",
       "2132     piper PA 22  \n",
       "934      cessna 170B  \n",
       "967      cessna 172R  \n",
       "931       cessna 170  \n",
       "1614  grumman G 164A  \n",
       "2106     piper PA 18  \n",
       "899       cessna 120  \n",
       "900       cessna 140  "
      ]
     },
     "execution_count": 71,
     "metadata": {},
     "output_type": "execute_result"
    }
   ],
   "source": [
    "df_safest[:10]"
   ]
  },
  {
   "cell_type": "code",
   "execution_count": 73,
   "metadata": {},
   "outputs": [],
   "source": [
    "top_ten = df_safest[:10]['Make_and_Model'].tolist()"
   ]
  },
  {
   "cell_type": "code",
   "execution_count": 74,
   "metadata": {},
   "outputs": [],
   "source": [
    "bottom_ten = df_safest[-10:]['Make_and_Model'].tolist()"
   ]
  },
  {
   "cell_type": "code",
   "execution_count": 75,
   "metadata": {},
   "outputs": [
    {
     "name": "stdout",
     "output_type": "stream",
     "text": [
      "['piper PA 30', 'piper PA 32 260', 'cessna 208B', 'mooney M20K', 'cirrus SR22', 'cessna P210N', 'beechcraft A36', 'piper PA 32R 300', 'piper PA 23 250', 'beechcraft 58']\n"
     ]
    }
   ],
   "source": [
    "print(bottom_ten)"
   ]
  },
  {
   "cell_type": "code",
   "execution_count": 76,
   "metadata": {},
   "outputs": [
    {
     "name": "stdout",
     "output_type": "stream",
     "text": [
      "['cessna 185', 'cessna 180', 'piper PA 22', 'cessna 170B', 'cessna 172R', 'cessna 170', 'grumman G 164A', 'piper PA 18', 'cessna 120', 'cessna 140']\n"
     ]
    }
   ],
   "source": [
    "print(top_ten)"
   ]
  },
  {
   "cell_type": "code",
   "execution_count": 46,
   "metadata": {},
   "outputs": [
    {
     "data": {
      "text/html": [
       "<div>\n",
       "<style scoped>\n",
       "    .dataframe tbody tr th:only-of-type {\n",
       "        vertical-align: middle;\n",
       "    }\n",
       "\n",
       "    .dataframe tbody tr th {\n",
       "        vertical-align: top;\n",
       "    }\n",
       "\n",
       "    .dataframe thead th {\n",
       "        text-align: right;\n",
       "    }\n",
       "</style>\n",
       "<table border=\"1\" class=\"dataframe\">\n",
       "  <thead>\n",
       "    <tr style=\"text-align: right;\">\n",
       "      <th></th>\n",
       "      <th>Make</th>\n",
       "      <th>Model</th>\n",
       "      <th>Mean_Risk_Index</th>\n",
       "      <th>Model_Total_Accidents</th>\n",
       "      <th>Plane_Size</th>\n",
       "    </tr>\n",
       "  </thead>\n",
       "  <tbody>\n",
       "    <tr>\n",
       "      <th>0</th>\n",
       "      <td>aero commander</td>\n",
       "      <td>100</td>\n",
       "      <td>0.145960</td>\n",
       "      <td>33.0</td>\n",
       "      <td>Small</td>\n",
       "    </tr>\n",
       "    <tr>\n",
       "      <th>1</th>\n",
       "      <td>aero commander</td>\n",
       "      <td>100 180</td>\n",
       "      <td>0.087500</td>\n",
       "      <td>12.0</td>\n",
       "      <td>Small</td>\n",
       "    </tr>\n",
       "    <tr>\n",
       "      <th>2</th>\n",
       "      <td>aero commander</td>\n",
       "      <td>112</td>\n",
       "      <td>0.312500</td>\n",
       "      <td>20.0</td>\n",
       "      <td>Small</td>\n",
       "    </tr>\n",
       "    <tr>\n",
       "      <th>3</th>\n",
       "      <td>aero commander</td>\n",
       "      <td>112A</td>\n",
       "      <td>0.095238</td>\n",
       "      <td>14.0</td>\n",
       "      <td>Small</td>\n",
       "    </tr>\n",
       "    <tr>\n",
       "      <th>4</th>\n",
       "      <td>aero commander</td>\n",
       "      <td>114 B</td>\n",
       "      <td>0.300000</td>\n",
       "      <td>1.0</td>\n",
       "      <td>Small</td>\n",
       "    </tr>\n",
       "  </tbody>\n",
       "</table>\n",
       "</div>"
      ],
      "text/plain": [
       "             Make    Model  Mean_Risk_Index  Model_Total_Accidents Plane_Size\n",
       "0  aero commander      100         0.145960                   33.0      Small\n",
       "1  aero commander  100 180         0.087500                   12.0      Small\n",
       "2  aero commander      112         0.312500                   20.0      Small\n",
       "3  aero commander     112A         0.095238                   14.0      Small\n",
       "4  aero commander    114 B         0.300000                    1.0      Small"
      ]
     },
     "execution_count": 46,
     "metadata": {},
     "output_type": "execute_result"
    }
   ],
   "source": [
    "df.head()"
   ]
  },
  {
   "cell_type": "code",
   "execution_count": 47,
   "metadata": {},
   "outputs": [
    {
     "name": "stdout",
     "output_type": "stream",
     "text": [
      "<class 'pandas.core.frame.DataFrame'>\n",
      "RangeIndex: 2606 entries, 0 to 2605\n",
      "Data columns (total 5 columns):\n",
      " #   Column                 Non-Null Count  Dtype  \n",
      "---  ------                 --------------  -----  \n",
      " 0   Make                   2606 non-null   object \n",
      " 1   Model                  2606 non-null   object \n",
      " 2   Mean_Risk_Index        2606 non-null   float64\n",
      " 3   Model_Total_Accidents  2606 non-null   float64\n",
      " 4   Plane_Size             2606 non-null   object \n",
      "dtypes: float64(2), object(3)\n",
      "memory usage: 101.9+ KB\n"
     ]
    }
   ],
   "source": [
    "df.info()"
   ]
  },
  {
   "cell_type": "code",
   "execution_count": null,
   "metadata": {},
   "outputs": [],
   "source": []
  }
 ],
 "metadata": {
  "kernelspec": {
   "display_name": "learn-env",
   "language": "python",
   "name": "python3"
  },
  "language_info": {
   "codemirror_mode": {
    "name": "ipython",
    "version": 3
   },
   "file_extension": ".py",
   "mimetype": "text/x-python",
   "name": "python",
   "nbconvert_exporter": "python",
   "pygments_lexer": "ipython3",
   "version": "3.12.2"
  }
 },
 "nbformat": 4,
 "nbformat_minor": 2
}
