{
 "cells": [
  {
   "cell_type": "markdown",
   "metadata": {},
   "source": [
    "# Final notebook"
   ]
  },
  {
   "cell_type": "markdown",
   "metadata": {},
   "source": [
    "### Presentation slides outline\n",
    "\n",
    "1. Beginning \n",
    "    - Overview\n",
    "    - Business Understanding\n",
    "2. Middle\n",
    "    - Data Understanding\n",
    "    - Data Analysis\n",
    "3. End\n",
    "    - Recommendations\n",
    "    - Next steps\n",
    "    - Thank you (prompt for questions as well as our contact info here)"
   ]
  },
  {
   "cell_type": "markdown",
   "metadata": {},
   "source": [
    "- look at other factors affecting safety (engine type, # of engines etc.)\n",
    "- aircraft safety during VMC and IMC\n",
    "- phase of flight"
   ]
  },
  {
   "cell_type": "code",
   "execution_count": 1,
   "metadata": {},
   "outputs": [],
   "source": [
    "import pandas as pd \n",
    "import numpy as np \n",
    "import matplotlib.pyplot as plt \n",
    "import seaborn as sns"
   ]
  },
  {
   "cell_type": "code",
   "execution_count": 2,
   "metadata": {},
   "outputs": [],
   "source": [
    "df = pd.read_csv('make_model_risk.csv')"
   ]
  },
  {
   "cell_type": "code",
   "execution_count": 3,
   "metadata": {},
   "outputs": [
    {
     "name": "stdout",
     "output_type": "stream",
     "text": [
      "<class 'pandas.core.frame.DataFrame'>\n",
      "RangeIndex: 2606 entries, 0 to 2605\n",
      "Data columns (total 5 columns):\n",
      " #   Column                 Non-Null Count  Dtype  \n",
      "---  ------                 --------------  -----  \n",
      " 0   Make                   2606 non-null   object \n",
      " 1   Model                  2606 non-null   object \n",
      " 2   Mean_Risk_Index        2606 non-null   float64\n",
      " 3   Model_Total_Accidents  2606 non-null   float64\n",
      " 4   Plane_Size             2606 non-null   object \n",
      "dtypes: float64(2), object(3)\n",
      "memory usage: 101.9+ KB\n"
     ]
    }
   ],
   "source": [
    "df.info()"
   ]
  },
  {
   "cell_type": "code",
   "execution_count": 39,
   "metadata": {},
   "outputs": [],
   "source": [
    "df_safest = df.loc[df['Model_Total_Accidents'] > 100]"
   ]
  },
  {
   "cell_type": "code",
   "execution_count": 40,
   "metadata": {},
   "outputs": [],
   "source": [
    "# Sort df_safest by Mean_Risk_Index in ascending order\n",
    "df_safest = df_safest.sort_values('Mean_Risk_Index', ascending=True)"
   ]
  },
  {
   "cell_type": "code",
   "execution_count": 41,
   "metadata": {},
   "outputs": [
    {
     "data": {
      "text/plain": [
       "Plane_Size\n",
       "Small    94\n",
       "Name: count, dtype: int64"
      ]
     },
     "execution_count": 41,
     "metadata": {},
     "output_type": "execute_result"
    }
   ],
   "source": [
    "df_safest['Plane_Size'].value_counts()"
   ]
  },
  {
   "cell_type": "code",
   "execution_count": 42,
   "metadata": {},
   "outputs": [
    {
     "data": {
      "text/html": [
       "<div>\n",
       "<style scoped>\n",
       "    .dataframe tbody tr th:only-of-type {\n",
       "        vertical-align: middle;\n",
       "    }\n",
       "\n",
       "    .dataframe tbody tr th {\n",
       "        vertical-align: top;\n",
       "    }\n",
       "\n",
       "    .dataframe thead th {\n",
       "        text-align: right;\n",
       "    }\n",
       "</style>\n",
       "<table border=\"1\" class=\"dataframe\">\n",
       "  <thead>\n",
       "    <tr style=\"text-align: right;\">\n",
       "      <th></th>\n",
       "      <th>Make</th>\n",
       "      <th>Model</th>\n",
       "      <th>Mean_Risk_Index</th>\n",
       "      <th>Model_Total_Accidents</th>\n",
       "      <th>Plane_Size</th>\n",
       "    </tr>\n",
       "  </thead>\n",
       "  <tbody>\n",
       "  </tbody>\n",
       "</table>\n",
       "</div>"
      ],
      "text/plain": [
       "Empty DataFrame\n",
       "Columns: [Make, Model, Mean_Risk_Index, Model_Total_Accidents, Plane_Size]\n",
       "Index: []"
      ]
     },
     "execution_count": 42,
     "metadata": {},
     "output_type": "execute_result"
    }
   ],
   "source": [
    "df_safest.loc[df_safest['Plane_Size'] == 'Large']"
   ]
  },
  {
   "cell_type": "code",
   "execution_count": 43,
   "metadata": {},
   "outputs": [
    {
     "data": {
      "text/plain": [
       "Plane_Size\n",
       "Small     2504\n",
       "Medium      76\n",
       "Large       26\n",
       "Name: count, dtype: int64"
      ]
     },
     "execution_count": 43,
     "metadata": {},
     "output_type": "execute_result"
    }
   ],
   "source": [
    "df['Plane_Size'].value_counts()"
   ]
  },
  {
   "cell_type": "code",
   "execution_count": 44,
   "metadata": {},
   "outputs": [
    {
     "data": {
      "text/html": [
       "<div>\n",
       "<style scoped>\n",
       "    .dataframe tbody tr th:only-of-type {\n",
       "        vertical-align: middle;\n",
       "    }\n",
       "\n",
       "    .dataframe tbody tr th {\n",
       "        vertical-align: top;\n",
       "    }\n",
       "\n",
       "    .dataframe thead th {\n",
       "        text-align: right;\n",
       "    }\n",
       "</style>\n",
       "<table border=\"1\" class=\"dataframe\">\n",
       "  <thead>\n",
       "    <tr style=\"text-align: right;\">\n",
       "      <th></th>\n",
       "      <th>Make</th>\n",
       "      <th>Model</th>\n",
       "      <th>Mean_Risk_Index</th>\n",
       "      <th>Model_Total_Accidents</th>\n",
       "      <th>Plane_Size</th>\n",
       "    </tr>\n",
       "  </thead>\n",
       "  <tbody>\n",
       "    <tr>\n",
       "      <th>2031</th>\n",
       "      <td>piper</td>\n",
       "      <td>180</td>\n",
       "      <td>0.053314</td>\n",
       "      <td>439.0</td>\n",
       "      <td>Small</td>\n",
       "    </tr>\n",
       "    <tr>\n",
       "      <th>985</th>\n",
       "      <td>cessna</td>\n",
       "      <td>180</td>\n",
       "      <td>0.053314</td>\n",
       "      <td>439.0</td>\n",
       "      <td>Small</td>\n",
       "    </tr>\n",
       "    <tr>\n",
       "      <th>1032</th>\n",
       "      <td>cessna</td>\n",
       "      <td>185</td>\n",
       "      <td>0.053330</td>\n",
       "      <td>167.0</td>\n",
       "      <td>Small</td>\n",
       "    </tr>\n",
       "    <tr>\n",
       "      <th>2132</th>\n",
       "      <td>piper</td>\n",
       "      <td>PA 22</td>\n",
       "      <td>0.053941</td>\n",
       "      <td>129.0</td>\n",
       "      <td>Small</td>\n",
       "    </tr>\n",
       "    <tr>\n",
       "      <th>934</th>\n",
       "      <td>cessna</td>\n",
       "      <td>170B</td>\n",
       "      <td>0.066126</td>\n",
       "      <td>265.0</td>\n",
       "      <td>Small</td>\n",
       "    </tr>\n",
       "    <tr>\n",
       "      <th>967</th>\n",
       "      <td>cessna</td>\n",
       "      <td>172R</td>\n",
       "      <td>0.068582</td>\n",
       "      <td>161.0</td>\n",
       "      <td>Small</td>\n",
       "    </tr>\n",
       "    <tr>\n",
       "      <th>931</th>\n",
       "      <td>cessna</td>\n",
       "      <td>170</td>\n",
       "      <td>0.068819</td>\n",
       "      <td>120.0</td>\n",
       "      <td>Small</td>\n",
       "    </tr>\n",
       "    <tr>\n",
       "      <th>2482</th>\n",
       "      <td>schweizer</td>\n",
       "      <td>G 164A</td>\n",
       "      <td>0.072178</td>\n",
       "      <td>254.0</td>\n",
       "      <td>Small</td>\n",
       "    </tr>\n",
       "    <tr>\n",
       "      <th>228</th>\n",
       "      <td>air tractor</td>\n",
       "      <td>G 164A</td>\n",
       "      <td>0.072178</td>\n",
       "      <td>254.0</td>\n",
       "      <td>Small</td>\n",
       "    </tr>\n",
       "    <tr>\n",
       "      <th>1614</th>\n",
       "      <td>grumman</td>\n",
       "      <td>G 164A</td>\n",
       "      <td>0.072178</td>\n",
       "      <td>254.0</td>\n",
       "      <td>Small</td>\n",
       "    </tr>\n",
       "    <tr>\n",
       "      <th>2106</th>\n",
       "      <td>piper</td>\n",
       "      <td>PA 18</td>\n",
       "      <td>0.075128</td>\n",
       "      <td>390.0</td>\n",
       "      <td>Small</td>\n",
       "    </tr>\n",
       "    <tr>\n",
       "      <th>899</th>\n",
       "      <td>cessna</td>\n",
       "      <td>120</td>\n",
       "      <td>0.079825</td>\n",
       "      <td>114.0</td>\n",
       "      <td>Small</td>\n",
       "    </tr>\n",
       "    <tr>\n",
       "      <th>900</th>\n",
       "      <td>cessna</td>\n",
       "      <td>140</td>\n",
       "      <td>0.083156</td>\n",
       "      <td>282.0</td>\n",
       "      <td>Small</td>\n",
       "    </tr>\n",
       "    <tr>\n",
       "      <th>970</th>\n",
       "      <td>cessna</td>\n",
       "      <td>172S</td>\n",
       "      <td>0.083333</td>\n",
       "      <td>352.0</td>\n",
       "      <td>Small</td>\n",
       "    </tr>\n",
       "    <tr>\n",
       "      <th>919</th>\n",
       "      <td>cessna</td>\n",
       "      <td>152</td>\n",
       "      <td>0.085603</td>\n",
       "      <td>1252.0</td>\n",
       "      <td>Small</td>\n",
       "    </tr>\n",
       "    <tr>\n",
       "      <th>2138</th>\n",
       "      <td>piper</td>\n",
       "      <td>PA 22 150</td>\n",
       "      <td>0.085974</td>\n",
       "      <td>183.0</td>\n",
       "      <td>Small</td>\n",
       "    </tr>\n",
       "    <tr>\n",
       "      <th>1666</th>\n",
       "      <td>gulfstream</td>\n",
       "      <td>G 164B</td>\n",
       "      <td>0.086972</td>\n",
       "      <td>284.0</td>\n",
       "      <td>Small</td>\n",
       "    </tr>\n",
       "    <tr>\n",
       "      <th>1615</th>\n",
       "      <td>grumman</td>\n",
       "      <td>G 164B</td>\n",
       "      <td>0.086972</td>\n",
       "      <td>284.0</td>\n",
       "      <td>Small</td>\n",
       "    </tr>\n",
       "    <tr>\n",
       "      <th>2484</th>\n",
       "      <td>schweizer</td>\n",
       "      <td>G 164B</td>\n",
       "      <td>0.086972</td>\n",
       "      <td>284.0</td>\n",
       "      <td>Small</td>\n",
       "    </tr>\n",
       "    <tr>\n",
       "      <th>1201</th>\n",
       "      <td>cessna</td>\n",
       "      <td>A185F</td>\n",
       "      <td>0.089132</td>\n",
       "      <td>190.0</td>\n",
       "      <td>Small</td>\n",
       "    </tr>\n",
       "  </tbody>\n",
       "</table>\n",
       "</div>"
      ],
      "text/plain": [
       "             Make      Model  Mean_Risk_Index  Model_Total_Accidents  \\\n",
       "2031        piper        180         0.053314                  439.0   \n",
       "985        cessna        180         0.053314                  439.0   \n",
       "1032       cessna        185         0.053330                  167.0   \n",
       "2132        piper      PA 22         0.053941                  129.0   \n",
       "934        cessna       170B         0.066126                  265.0   \n",
       "967        cessna       172R         0.068582                  161.0   \n",
       "931        cessna        170         0.068819                  120.0   \n",
       "2482    schweizer     G 164A         0.072178                  254.0   \n",
       "228   air tractor     G 164A         0.072178                  254.0   \n",
       "1614      grumman     G 164A         0.072178                  254.0   \n",
       "2106        piper      PA 18         0.075128                  390.0   \n",
       "899        cessna        120         0.079825                  114.0   \n",
       "900        cessna        140         0.083156                  282.0   \n",
       "970        cessna       172S         0.083333                  352.0   \n",
       "919        cessna        152         0.085603                 1252.0   \n",
       "2138        piper  PA 22 150         0.085974                  183.0   \n",
       "1666   gulfstream     G 164B         0.086972                  284.0   \n",
       "1615      grumman     G 164B         0.086972                  284.0   \n",
       "2484    schweizer     G 164B         0.086972                  284.0   \n",
       "1201       cessna      A185F         0.089132                  190.0   \n",
       "\n",
       "     Plane_Size  \n",
       "2031      Small  \n",
       "985       Small  \n",
       "1032      Small  \n",
       "2132      Small  \n",
       "934       Small  \n",
       "967       Small  \n",
       "931       Small  \n",
       "2482      Small  \n",
       "228       Small  \n",
       "1614      Small  \n",
       "2106      Small  \n",
       "899       Small  \n",
       "900       Small  \n",
       "970       Small  \n",
       "919       Small  \n",
       "2138      Small  \n",
       "1666      Small  \n",
       "1615      Small  \n",
       "2484      Small  \n",
       "1201      Small  "
      ]
     },
     "execution_count": 44,
     "metadata": {},
     "output_type": "execute_result"
    }
   ],
   "source": [
    "df_safest[:20]"
   ]
  },
  {
   "cell_type": "code",
   "execution_count": null,
   "metadata": {},
   "outputs": [],
   "source": []
  }
 ],
 "metadata": {
  "kernelspec": {
   "display_name": "learn-env",
   "language": "python",
   "name": "python3"
  },
  "language_info": {
   "codemirror_mode": {
    "name": "ipython",
    "version": 3
   },
   "file_extension": ".py",
   "mimetype": "text/x-python",
   "name": "python",
   "nbconvert_exporter": "python",
   "pygments_lexer": "ipython3",
   "version": "3.12.2"
  }
 },
 "nbformat": 4,
 "nbformat_minor": 2
}
