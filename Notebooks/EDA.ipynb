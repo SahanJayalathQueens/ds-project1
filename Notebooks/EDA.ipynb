{
 "cells": [
  {
   "cell_type": "markdown",
   "metadata": {},
   "source": [
    "### Risk index/safety index/metric ideation\n",
    "\n",
    "- (fatalities + major injuries + minor injuries) / total passengers?\n",
    "- mean of the above numbers for every make and model?\n",
    "- "
   ]
  },
  {
   "cell_type": "code",
   "execution_count": null,
   "metadata": {},
   "outputs": [],
   "source": []
  }
 ],
 "metadata": {
  "language_info": {
   "name": "python"
  }
 },
 "nbformat": 4,
 "nbformat_minor": 2
}
